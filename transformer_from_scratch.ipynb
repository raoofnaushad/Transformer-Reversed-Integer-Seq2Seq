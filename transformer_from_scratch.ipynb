{
  "cells": [
    {
      "cell_type": "markdown",
      "metadata": {
        "id": "GpEBvITOZXCN"
      },
      "source": [
        "# Assignment 04 : Transformers\n",
        "\n",
        "### Team: Pretrained Prodigies\n",
        "\n",
        "#### Members:\n",
        "\n",
        "- Rakshit Gupta (A00463237)\n",
        "- Raoof Noushad (A00476511)\n",
        "- Tejasvi Bhutiyal (A00463485)\n"
      ]
    },
    {
      "cell_type": "markdown",
      "metadata": {
        "id": "NfOOFykSahrL"
      },
      "source": [
        "# Section 1: Transformer Architecture\n",
        "\n",
        "<img src= https://machinelearningmastery.com/wp-content/uploads/2021/08/attention_research_1.png width= 500>\n"
      ]
    },
    {
      "cell_type": "code",
      "execution_count": 1,
      "metadata": {
        "id": "DJ_wtwiKp7Ut"
      },
      "outputs": [],
      "source": [
        "import torch\n",
        "import torch.nn as nn\n",
        "import math\n",
        "import torch.nn.functional as F"
      ]
    },
    {
      "cell_type": "markdown",
      "metadata": {
        "id": "-t8t5MQ6qAd3"
      },
      "source": [
        "### Embedding\n",
        "\n",
        "> The Embedding class defined is used for converting input tokens (integers) into vectors of a specified dimension. This is a critical step, as it allows for the representation of discrete elements (like words or, in our case integers) in a continuous, high-dimensional space.\n",
        "\n",
        "> Shape of input: [batch_size, sequence_length]\n",
        "\n",
        "> Shape of output: [batch_size, sequence_length, embed_dim]\n"
      ]
    },
    {
      "cell_type": "code",
      "execution_count": null,
      "metadata": {
        "id": "tbIDMBO4p7W0"
      },
      "outputs": [],
      "source": [
        "class Embedding(nn.Module):\n",
        "    def __init__(self, vocab_size, embed_dim):\n",
        "        \"\"\"\n",
        "        Args:\n",
        "            vocab_size: size of vocabulary\n",
        "            embed_dim: dimension of embeddings\n",
        "        \"\"\"\n",
        "        super(Embedding, self).__init__()\n",
        "        self.embed = nn.Embedding(vocab_size, embed_dim)\n",
        "\n",
        "    def forward(self, x):\n",
        "        \"\"\"\n",
        "        Args:\n",
        "            x: input vector\n",
        "        Returns:\n",
        "            out: embedding vector\n",
        "        \"\"\"\n",
        "        out = self.embed(x)\n",
        "        return out"
      ]
    },
    {
      "cell_type": "markdown",
      "metadata": {
        "id": "B1ootLOfOuDA"
      },
      "source": [
        "Code to get the information on shapes of the above class\n"
      ]
    },
    {
      "cell_type": "code",
      "execution_count": null,
      "metadata": {
        "colab": {
          "base_uri": "https://localhost:8080/"
        },
        "id": "jdy7v6Prp7Zc",
        "outputId": "689d6b9c-97c1-4f56-97ee-96c4a121223c"
      },
      "outputs": [
        {
          "name": "stdout",
          "output_type": "stream",
          "text": [
            "output_embeddings:  tensor([[[-1.1113e-01,  2.0475e-01, -1.6002e-01, -2.0407e-01],\n",
            "         [-2.1972e+00,  1.5732e+00, -1.1697e+00, -3.2185e-01],\n",
            "         [-6.0889e-01,  8.4548e-01,  4.9983e-01,  6.5495e-01],\n",
            "         [-3.7647e-01,  1.8573e-01,  6.2652e-01, -3.2394e-01],\n",
            "         [ 1.2667e-03,  5.1968e-01,  1.0160e+00,  8.2725e-01]]],\n",
            "       grad_fn=<EmbeddingBackward0>)\n",
            "Input Shape: torch.Size([1, 5])\n",
            "Output Shape: torch.Size([1, 5, 4])\n"
          ]
        }
      ],
      "source": [
        "vocab_size = 10\n",
        "embed_dim = 4\n",
        "\n",
        "embedding_layer = Embedding(vocab_size, embed_dim)\n",
        "\n",
        "batch_size = 1\n",
        "sequence_length = 5\n",
        "sample_input = torch.tensor([[7, 8, 9, 1, 6]])\n",
        "\n",
        "\n",
        "output_embeddings = embedding_layer(sample_input)\n",
        "print(\"output_embeddings: \", output_embeddings)\n",
        "print(\"Input Shape:\", sample_input.shape)\n",
        "print(\"Output Shape:\", output_embeddings.shape)"
      ]
    },
    {
      "cell_type": "markdown",
      "metadata": {
        "id": "W1udvYyyNs5z"
      },
      "source": [
        "### Positional Encoding\n",
        "\n",
        "> The Positional Embedding class is designed to add positional information to embeddings created by Embedding class in our Transformer model. Positinal embedding will generate a matrix of similar to embedding matrix. It will create a matrix of dimension sequence length x embedding dimension. For each token(word) in sequence, we will find the embedding vector which is of dimension 1 x embedding dimension and it is added with the correspondng positional vector which is of dimension 1 x embedding dimension to get 1 x embedding dimension dim out for each word/token.\n",
        "\n",
        "> Shape of input: [batch_size, sequence_length, embed_dim]\n",
        "\n",
        "> Shape of output: [batch_size, sequence_length, embed_model_dim]\n"
      ]
    },
    {
      "cell_type": "code",
      "execution_count": null,
      "metadata": {
        "id": "P5BOPgbe_0wA"
      },
      "outputs": [],
      "source": [
        "class PositionalEmbedding(nn.Module):\n",
        "    def __init__(self, max_seq_len, embed_model_dim):\n",
        "        \"\"\"\n",
        "        Args:\n",
        "            seq_len: length of input sequence\n",
        "            embed_model_dim: demension of embedding\n",
        "        \"\"\"\n",
        "        super(PositionalEmbedding, self).__init__()\n",
        "        self.embed_dim = embed_model_dim\n",
        "\n",
        "        pe = torch.zeros(max_seq_len, self.embed_dim)\n",
        "        for pos in range(max_seq_len):\n",
        "            for i in range(0, self.embed_dim, 2):\n",
        "                pe[pos, i] = math.sin(pos / (10000 ** ((2 * i) / self.embed_dim)))\n",
        "                pe[pos, i + 1] = math.cos(\n",
        "                    pos / (10000 ** ((2 * (i + 1)) / self.embed_dim))\n",
        "                )\n",
        "        pe = pe.unsqueeze(0)\n",
        "        self.register_buffer(\"pe\", pe)\n",
        "\n",
        "    def forward(self, x):\n",
        "        \"\"\"\n",
        "        Args:\n",
        "            x: input vector\n",
        "        Returns:\n",
        "            x: output\n",
        "        \"\"\"\n",
        "\n",
        "        x = x * math.sqrt(self.embed_dim)\n",
        "        seq_len = x.size(1)\n",
        "        x = x + torch.autograd.Variable(self.pe[:, :seq_len], requires_grad=False)\n",
        "        return x"
      ]
    },
    {
      "cell_type": "markdown",
      "metadata": {
        "id": "ZG6Jq1czPEIp"
      },
      "source": [
        "Code to get the information on shapes of the above class\n"
      ]
    },
    {
      "cell_type": "code",
      "execution_count": null,
      "metadata": {
        "colab": {
          "base_uri": "https://localhost:8080/"
        },
        "id": "Kerb_if6PKCd",
        "outputId": "257ab558-f99f-449b-932e-9e2987784162"
      },
      "outputs": [
        {
          "name": "stdout",
          "output_type": "stream",
          "text": [
            "pe:  tensor([[[ 0.0000e+00,  1.0000e+00,  0.0000e+00,  1.0000e+00],\n",
            "         [ 8.4147e-01,  9.9995e-01,  1.0000e-04,  1.0000e+00],\n",
            "         [ 9.0930e-01,  9.9980e-01,  2.0000e-04,  1.0000e+00],\n",
            "         [ 1.4112e-01,  9.9955e-01,  3.0000e-04,  1.0000e+00],\n",
            "         [-7.5680e-01,  9.9920e-01,  4.0000e-04,  1.0000e+00]]])\n",
            "Input Shape: torch.Size([1, 5, 4])\n",
            "Output Shape: torch.Size([1, 5, 4])\n"
          ]
        }
      ],
      "source": [
        "max_seq_len = 5\n",
        "embed_model_dim = 4\n",
        "\n",
        "pos_embedding = PositionalEmbedding(max_seq_len, embed_model_dim)\n",
        "\n",
        "\n",
        "output_with_pos = pos_embedding(output_embeddings)\n",
        "\n",
        "# output embeddings created from embedding class in the code above\n",
        "print(\"pe: \", pos_embedding.pe)\n",
        "print(\"Input Shape:\", output_embeddings.shape)\n",
        "print(\"Output Shape:\", output_with_pos.shape)"
      ]
    },
    {
      "cell_type": "markdown",
      "metadata": {
        "id": "elaKBbEiJucD"
      },
      "source": [
        "##\n"
      ]
    },
    {
      "cell_type": "markdown",
      "metadata": {
        "id": "R1csk-_WIqMm"
      },
      "source": [
        "## Attention\n",
        "\n",
        "###-Self Attention\n",
        "Imagine you have a sentence made up of several words. Self-attention is like a spotlight that each word shines on the other words in the sentence, figuring out how much attention or importance each word should give to the others.\n",
        "Each Word Has Three Jobs:\n",
        "\n",
        "Every word in the sentence has three tasks: it acts as a spotlight (key), it looks around to see what's important (query), and it decides how much it wants to share (value).\n",
        "\n",
        "Now, each word compares itself to all the other words in the sentence. It checks how important each word is to it.\n",
        "\n",
        "The comparison results in attention scores, kind of like ratings. Each word gets a score for how much attention it should give to every other word.\n",
        "\n",
        "For example, in the sentence: “The cat is on the mat. It ate a lot of food”, “It” refers to the cat, and not the mat, so the attention mechanism will weigh the token “cat” in the processing of token “It”.\n",
        "\n",
        "###-Mutlti Head Attention\n",
        "<img src= https://miro.medium.com/v2/resize:fit:1400/format:webp/0*--TCGWYxwASbv2ra.png width = 500>\n",
        "<br>\n",
        "\n",
        "Multi-head attention allows the model to focus on different parts of the input sequence differently and learn different types of relationships or patterns simultaneously.\n",
        "\n",
        "In a standard attention mechanism, you compute a weighted sum of values (V) based on the attention scores (computed from queries (Q) and keys (K)) to obtain an output. Multi-head attention extends this idea by performing attention multiple times in parallel, with different sets of learnable parameters for each \"head.\" The outputs from these multiple attention heads are then concatenated and linearly transformed to produce the final output.\n"
      ]
    },
    {
      "cell_type": "code",
      "execution_count": null,
      "metadata": {
        "id": "KvD77swqJCZ1"
      },
      "outputs": [],
      "source": [
        "class MultiHeadAttention(nn.Module):\n",
        "    def __init__(self, embed_dim=512, n_heads=8):\n",
        "        \"\"\"\n",
        "        Args:\n",
        "            embed_dim: dimension of embeding vector output\n",
        "            n_heads: number of self attention heads\n",
        "        \"\"\"\n",
        "        super(MultiHeadAttention, self).__init__()\n",
        "\n",
        "        # 512 dim\n",
        "        self.embed_dim = embed_dim\n",
        "        # 8\n",
        "        self.n_heads = n_heads\n",
        "        # 512/8 = 64  . each key,query, value will be of 64d\n",
        "        self.single_head_dim = int(self.embed_dim / self.n_heads)\n",
        "\n",
        "        # key,query and value matrixes    #64 x 64\n",
        "        # The linear layers for all key, query, value will take 64 input and will return 64 output\n",
        "        self.query_matrix = nn.Linear(\n",
        "            self.single_head_dim, self.single_head_dim, bias=False\n",
        "        )\n",
        "        self.key_matrix = nn.Linear(\n",
        "            self.single_head_dim, self.single_head_dim, bias=False\n",
        "        )\n",
        "        self.value_matrix = nn.Linear(\n",
        "            self.single_head_dim, self.single_head_dim, bias=False\n",
        "        )\n",
        "        self.out = nn.Linear(self.n_heads * self.single_head_dim, self.embed_dim)\n",
        "\n",
        "    # batch_size x sequence_length x embedding_dim    input: 32 x 10 x 512\n",
        "    def forward(self, key, query, value, mask=None):\n",
        "        \"\"\"\n",
        "        Args:\n",
        "           key : key vector\n",
        "           query : query vector\n",
        "           value : value vector\n",
        "           mask: mask for decoder\n",
        "\n",
        "        Returns:\n",
        "           output vector from multihead attention\n",
        "        \"\"\"\n",
        "        # provide the batch size\n",
        "        batch_size = key.size(0)\n",
        "        # provide the max sequence length\n",
        "        seq_length = key.size(1)\n",
        "\n",
        "        # query dimension can change in decoder during inference.\n",
        "        # so we cant take general seq_length\n",
        "        seq_length_query = query.size(1)\n",
        "\n",
        "        # batch_size x sequence_length x n_heads x single_head_dim = (32x10x8x64)\n",
        "        key = key.view(batch_size, seq_length, self.n_heads, self.single_head_dim)\n",
        "        query = query.view(\n",
        "            batch_size, seq_length_query, self.n_heads, self.single_head_dim\n",
        "        )\n",
        "        value = value.view(batch_size, seq_length, self.n_heads, self.single_head_dim)\n",
        "\n",
        "        # 32x10x8x64\n",
        "        k = self.key_matrix(key)\n",
        "        q = self.query_matrix(query)\n",
        "        v = self.value_matrix(value)\n",
        "\n",
        "        # 32 x 8 x 10 x 64\n",
        "        # (batch_size, n_heads, seq_len, single_head_dim)\n",
        "        q = q.transpose(1, 2)\n",
        "        k = k.transpose(1, 2)\n",
        "        v = v.transpose(1, 2)\n",
        "\n",
        "        # computes attention\n",
        "        # adjust key for matrix multiplication\n",
        "        # batch_size, n_heads, single_head_dim, seq_ken = 32 x 8 x 64 x 10\n",
        "        k_adjusted = k.transpose(-1, -2)\n",
        "\n",
        "        # (32 x 8 x 10 x 64) x (32 x 8 x 64 x 10) = 32 x 8 x 10 x 10\n",
        "        product = torch.matmul(q, k_adjusted)\n",
        "\n",
        "        # fill those positions of product matrix as (-1e20) where mask positions are 0\n",
        "        if mask is not None:\n",
        "            product = product.masked_fill(mask == 0, float(\"-1e20\"))\n",
        "\n",
        "        # divising by square root of key dimension\n",
        "        product = product / math.sqrt(self.single_head_dim)\n",
        "        # applying softmax\n",
        "        scores = F.softmax(product, dim=-1)\n",
        "\n",
        "        # mutiply with value matrix\n",
        "        scores = torch.matmul(scores, v)\n",
        "\n",
        "        # concatenated output\n",
        "        # (32x8x10x64) -> (32x10x8x64)  -> (32,10,512)\n",
        "        concat = (\n",
        "            scores.transpose(1, 2)\n",
        "            .contiguous()\n",
        "            .view(batch_size, seq_length_query, self.single_head_dim * self.n_heads)\n",
        "        )\n",
        "\n",
        "        # (32,10,512)\n",
        "        output = self.out(concat)\n",
        "\n",
        "        return output"
      ]
    },
    {
      "cell_type": "code",
      "execution_count": null,
      "metadata": {
        "colab": {
          "base_uri": "https://localhost:8080/"
        },
        "id": "EtuymfRo45-d",
        "outputId": "13b1db37-cca9-457d-9fbd-1910dc7cd5b6"
      },
      "outputs": [
        {
          "name": "stdout",
          "output_type": "stream",
          "text": [
            "Size of key tensor: torch.Size([2, 6, 30])\n",
            "Size of value tensor: torch.Size([2, 6, 30])\n",
            "Size of query tensor: torch.Size([2, 6, 30])\n",
            "MultiHeadAttention Output Shape:  torch.Size([2, 6, 30])\n"
          ]
        }
      ],
      "source": [
        "batch_size = 2\n",
        "sequence_length = 6\n",
        "embedding_dim = 30\n",
        "\n",
        "# Create random tensors\n",
        "key = torch.randn(batch_size, sequence_length, embedding_dim)\n",
        "value = torch.randn(batch_size, sequence_length, embedding_dim)\n",
        "query = torch.randn(batch_size, sequence_length, embedding_dim)\n",
        "\n",
        "# Print the sizes of the tensors\n",
        "print(\"Size of key tensor:\", key.size())\n",
        "print(\"Size of value tensor:\", value.size())\n",
        "print(\"Size of query tensor:\", query.size())\n",
        "\n",
        "attention = MultiHeadAttention(n_heads=2, embed_dim=embedding_dim)\n",
        "output = attention(key, query, value)\n",
        "print(\"MultiHeadAttention Output Shape: \", output.size())"
      ]
    },
    {
      "cell_type": "markdown",
      "metadata": {
        "id": "X_k4M9S_J-mk"
      },
      "source": [
        "#Encoder\n",
        "The EncoderLayer class initializes with input parameters and components, including a MultiHeadAttention module, a PositionWiseFeedForward module, two layer normalization modules, and a dropout layer. The forward methods computes the encoder layer output by applying self-attention, adding the attention output to the input tensor, and normalizing the result. Then, it computes the position-wise feed-forward output, combines it with the normalized self-attention output, and normalizes the final result before returning the processed tensor.\n",
        "<img src= https://miro.medium.com/v2/resize:fit:552/format:webp/0*bPKV4ekQr9ZjYkWJ.png >\n"
      ]
    },
    {
      "cell_type": "code",
      "execution_count": null,
      "metadata": {
        "id": "Zl19Az4RKDaf"
      },
      "outputs": [],
      "source": [
        "class TransformerBlock(nn.Module):\n",
        "    def __init__(self, embed_dim, expansion_factor=4, n_heads=8, dropout=0.2):\n",
        "        super(TransformerBlock, self).__init__()\n",
        "\n",
        "        \"\"\"\n",
        "        Args:\n",
        "           embed_dim: dimension of the embedding\n",
        "           expansion_factor: fator ehich determines output dimension of linear layer\n",
        "           n_heads: number of attention heads\n",
        "\n",
        "        \"\"\"\n",
        "        self.attention = MultiHeadAttention(embed_dim, n_heads)\n",
        "\n",
        "        self.norm1 = nn.LayerNorm(embed_dim)\n",
        "        self.norm2 = nn.LayerNorm(embed_dim)\n",
        "\n",
        "        self.feed_forward = nn.Sequential(\n",
        "            nn.Linear(embed_dim, expansion_factor * embed_dim),\n",
        "            nn.ReLU(),\n",
        "            nn.Linear(expansion_factor * embed_dim, embed_dim),\n",
        "        )\n",
        "\n",
        "        self.dropout1 = nn.Dropout(dropout)\n",
        "        self.dropout2 = nn.Dropout(dropout)\n",
        "\n",
        "    def forward(self, key, query, value):\n",
        "        \"\"\"\n",
        "        Args:\n",
        "           key: key vector\n",
        "           query: query vector\n",
        "           value: value vector\n",
        "           norm2_out: output of transformer block\n",
        "\n",
        "        \"\"\"\n",
        "\n",
        "        attention_out = self.attention(key, query, value)\n",
        "        attention_residual_out = attention_out + value\n",
        "        norm1_out = self.dropout1(self.norm1(attention_residual_out))\n",
        "\n",
        "        feed_fwd_out = self.feed_forward(norm1_out)\n",
        "        feed_fwd_residual_out = feed_fwd_out + norm1_out\n",
        "        norm2_out = self.dropout2(self.norm2(feed_fwd_residual_out))\n",
        "\n",
        "        return norm2_out\n",
        "\n",
        "\n",
        "class TransformerEncoder(nn.Module):\n",
        "    \"\"\"\n",
        "    Args:\n",
        "        seq_len : length of input sequence\n",
        "        embed_dim: dimension of embedding\n",
        "        num_layers: number of encoder layers\n",
        "        expansion_factor: factor which determines number of linear layers in feed forward layer\n",
        "        n_heads: number of heads in multihead attention\n",
        "\n",
        "    Returns:\n",
        "        out: output of the encoder\n",
        "    \"\"\"\n",
        "\n",
        "    def __init__(\n",
        "        self,\n",
        "        seq_len,\n",
        "        vocab_size,\n",
        "        embed_dim,\n",
        "        num_layers=2,\n",
        "        expansion_factor=4,\n",
        "        n_heads=8,\n",
        "        dropout=0.2,\n",
        "    ):\n",
        "        super(TransformerEncoder, self).__init__()\n",
        "\n",
        "        self.embedding_layer = Embedding(vocab_size, embed_dim)\n",
        "        self.positional_encoder = PositionalEmbedding(seq_len, embed_dim)\n",
        "\n",
        "        self.layers = nn.ModuleList(\n",
        "            [\n",
        "                TransformerBlock(embed_dim, expansion_factor, n_heads)\n",
        "                for i in range(num_layers)\n",
        "            ]\n",
        "        )\n",
        "\n",
        "        # added extra layer on top of encoder for our task\n",
        "        self.output_layer = nn.Linear(embed_dim, vocab_size)\n",
        "\n",
        "    def forward(self, x):\n",
        "        embed_out = self.embedding_layer(x)\n",
        "        out = self.positional_encoder(embed_out)\n",
        "        for layer in self.layers:\n",
        "            out = layer(out, out, out)\n",
        "\n",
        "        out = self.output_layer(out)\n",
        "        return out"
      ]
    },
    {
      "cell_type": "markdown",
      "metadata": {
        "id": "LsOMc-851KM-"
      },
      "source": [
        "# Decoder\n",
        "\n",
        "The DecoderLayer initializes with input parameters and components such as MultiHeadAttention modules for masked self-attention and cross-attention, a PositionWiseFeedForward module, three layer normalization modules, and a dropout layer.\n",
        "\n",
        "The forward method computes the decoder layer output by performing the following steps:\n",
        "\n",
        "1.  Calculate the masked self-attention output and add it to the input tensor, followed by dropout and layer normalization.\n",
        "\n",
        "2.  Compute the cross-attention output between the decoder and encoder outputs, and add it to the normalized masked self-attention output, followed by dropout and layer normalization.\n",
        "\n",
        "3.  Calculate the position-wise feed-forward output and combine it with the normalized cross-attention output, followed by dropout and layer normalization.\n",
        "4.  Return the processed tensor.\n",
        "\n",
        "These operations enable the decoder to generate target sequences based on the input and the encoder output.\n",
        "\n",
        "<img src= https://miro.medium.com/v2/resize:fit:552/format:webp/0*SPZgT4k8GQi37H__.png>\n"
      ]
    },
    {
      "cell_type": "code",
      "execution_count": null,
      "metadata": {
        "id": "WacJYUX03Yy-"
      },
      "outputs": [],
      "source": [
        "class DecoderBlock(nn.Module):\n",
        "    def __init__(self, embed_dim, expansion_factor=4, n_heads=8):\n",
        "        super(DecoderBlock, self).__init__()\n",
        "\n",
        "        \"\"\"\n",
        "        Args:\n",
        "           embed_dim: dimension of the embedding\n",
        "           expansion_factor: fator ehich determines output dimension of linear layer\n",
        "           n_heads: number of attention heads\n",
        "\n",
        "        \"\"\"\n",
        "        self.attention = MultiHeadAttention(embed_dim, n_heads=8)\n",
        "        self.norm = nn.LayerNorm(embed_dim)\n",
        "        self.dropout = nn.Dropout(0.2)\n",
        "        self.transformer_block = TransformerBlock(embed_dim, expansion_factor, n_heads)\n",
        "\n",
        "    def forward(self, key, query, x, mask):\n",
        "        \"\"\"\n",
        "        Args:\n",
        "           key: key vector\n",
        "           query: query vector\n",
        "           value: value vector\n",
        "           mask: mask to be given for multi head attention\n",
        "        Returns:\n",
        "           out: output of transformer block\n",
        "\n",
        "        \"\"\"\n",
        "\n",
        "        # we need to pass mask mask only to fst attention\n",
        "        attention = self.attention(x, x, x, mask=mask)  # 32x10x512\n",
        "        value = self.dropout(self.norm(attention + x))\n",
        "\n",
        "        out = self.transformer_block(key, query, value)\n",
        "\n",
        "        return out"
      ]
    },
    {
      "cell_type": "code",
      "execution_count": null,
      "metadata": {
        "id": "RO8liZaT3kJm"
      },
      "outputs": [],
      "source": [
        "class TransformerDecoder(nn.Module):\n",
        "    def __init__(\n",
        "        self,\n",
        "        target_vocab_size,\n",
        "        embed_dim,\n",
        "        seq_len,\n",
        "        num_layers=2,\n",
        "        expansion_factor=4,\n",
        "        n_heads=8,\n",
        "    ):\n",
        "        super(TransformerDecoder, self).__init__()\n",
        "        \"\"\"\n",
        "        Args:\n",
        "           target_vocab_size: vocabulary size of taget\n",
        "           embed_dim: dimension of embedding\n",
        "           seq_len : length of input sequence\n",
        "           num_layers: number of encoder layers\n",
        "           expansion_factor: factor which determines number of linear layers in feed forward layer\n",
        "           n_heads: number of heads in multihead attention\n",
        "\n",
        "        \"\"\"\n",
        "        self.word_embedding = nn.Embedding(target_vocab_size, embed_dim)\n",
        "        self.position_embedding = PositionalEmbedding(seq_len, embed_dim)\n",
        "\n",
        "        self.layers = nn.ModuleList(\n",
        "            [\n",
        "                DecoderBlock(embed_dim, expansion_factor=4, n_heads=8)\n",
        "                for _ in range(num_layers)\n",
        "            ]\n",
        "        )\n",
        "        self.fc_out = nn.Linear(embed_dim, target_vocab_size)\n",
        "        self.dropout = nn.Dropout(0.2)\n",
        "\n",
        "    def forward(self, x, enc_out, mask):\n",
        "        \"\"\"\n",
        "        Args:\n",
        "            x: input vector from target\n",
        "            enc_out : output from encoder layer\n",
        "            trg_mask: mask for decoder self attention\n",
        "        Returns:\n",
        "            out: output vector\n",
        "        \"\"\"\n",
        "\n",
        "        x = self.word_embedding(x)\n",
        "        x = self.position_embedding(x)\n",
        "        x = self.dropout(x)\n",
        "\n",
        "        for layer in self.layers:\n",
        "            x = layer(enc_out, x, enc_out, mask)\n",
        "\n",
        "        out = F.softmax(self.fc_out(x))\n",
        "\n",
        "        return out"
      ]
    },
    {
      "cell_type": "markdown",
      "metadata": {
        "id": "Uic3EP6CaRWq"
      },
      "source": [
        "Code to get the information on shapes of the above class\n"
      ]
    },
    {
      "cell_type": "code",
      "execution_count": null,
      "metadata": {
        "colab": {
          "base_uri": "https://localhost:8080/"
        },
        "id": "G8_jfXfkaXfZ",
        "outputId": "8c7db16c-4636-4cb3-e234-e7b7306d51ce"
      },
      "outputs": [
        {
          "name": "stdout",
          "output_type": "stream",
          "text": [
            "TransformerDecoder Output Shape: torch.Size([32, 10, 1000])\n"
          ]
        },
        {
          "name": "stderr",
          "output_type": "stream",
          "text": [
            "<ipython-input-10-d30d351e0417>:46: UserWarning: Implicit dimension choice for softmax has been deprecated. Change the call to include dim=X as an argument.\n",
            "  out = F.softmax(self.fc_out(x))\n"
          ]
        }
      ],
      "source": [
        "# Parameters for testing\n",
        "target_vocab_size = 1000\n",
        "embed_dim = 512\n",
        "seq_len = 10\n",
        "num_layers = 2\n",
        "expansion_factor = 4\n",
        "n_heads = 8\n",
        "\n",
        "decoder = TransformerDecoder(\n",
        "    target_vocab_size, embed_dim, seq_len, num_layers, expansion_factor, n_heads\n",
        ")\n",
        "\n",
        "batch_size = 32\n",
        "\n",
        "# size of x = 32 X 1O\n",
        "x = torch.randint(0, target_vocab_size, (batch_size, seq_len))\n",
        "\n",
        "# size of enc_out = 32 X 1O X 512\n",
        "enc_out = torch.rand(batch_size, seq_len, embed_dim)\n",
        "\n",
        "mask = torch.ones(batch_size, 1, seq_len, seq_len)\n",
        "\n",
        "out = decoder(x, enc_out, mask)\n",
        "\n",
        "# Print the shape of the output tensor\n",
        "print(\"TransformerDecoder Output Shape:\", out.shape)"
      ]
    },
    {
      "attachments": {
        "image.png": {
          "image/png": "[encoded data removed]"
        }
      },
      "cell_type": "markdown",
      "metadata": {
        "id": "bRxdRDveteUk"
      },
      "source": [
        "# Section 2: Model Building for Reversing List Of Integers\n",
        "## Data Flow in the code\n",
        "![image.png](attachment:image.png)\n"
      ]
    },
    {
      "cell_type": "code",
      "execution_count": 2,
      "metadata": {
        "id": "iZzY-Fd1t0mm"
      },
      "outputs": [],
      "source": [
        "import random\n",
        "import matplotlib.pyplot as plt\n",
        "import numpy as np\n",
        "from torch.utils.data import Dataset, DataLoader\n",
        "import torch.optim as optim\n",
        "from torch.utils.data.dataset import random_split\n",
        "from tqdm import tqdm"
      ]
    },
    {
      "cell_type": "markdown",
      "metadata": {
        "id": "W5Ml8Xh12-jh"
      },
      "source": [
        "##Creating dataset for reversing list of Integers\n",
        "The purpose of this class is to generate a dataset where each item is a pair of sequences: the original sequence of integers and its reversed version, both padded to a fixed length.\n"
      ]
    },
    {
      "cell_type": "code",
      "execution_count": null,
      "metadata": {
        "id": "tidoezUz0nw9"
      },
      "outputs": [],
      "source": [
        "class IntegerReverseDataset(Dataset):\n",
        "    def __init__(self, num_samples=1000, max_length=5):\n",
        "        self.data = []\n",
        "        while len(self.data) < num_samples:\n",
        "            # generate random length of sequence\n",
        "            length = torch.randint(3, max_length + 1, (1,)).item()\n",
        "\n",
        "            # generate sequence of random length\n",
        "            sequence = torch.randint(1, 10, (length,)).tolist()\n",
        "\n",
        "            reversed_sequence = list(reversed(sequence)) + [0] * (max_length - length)\n",
        "            sequence += [0] * (max_length - length)\n",
        "            # reversed_sequence = list(reversed(sequence))\n",
        "            if (sequence, reversed_sequence) not in self.data:\n",
        "                self.data.append((sequence, reversed_sequence))\n",
        "\n",
        "    def __len__(self):\n",
        "        return len(self.data)\n",
        "\n",
        "    def __getitem__(self, idx):\n",
        "        return torch.tensor(self.data[idx][0]), torch.tensor(self.data[idx][1])"
      ]
    },
    {
      "cell_type": "markdown",
      "metadata": {
        "id": "7gBwr0HU38xR"
      },
      "source": [
        "##Training\n"
      ]
    },
    {
      "cell_type": "code",
      "execution_count": null,
      "metadata": {
        "id": "U4h5jfeR0yRF"
      },
      "outputs": [],
      "source": [
        "def train(\n",
        "    model,\n",
        "    train_data_loader,\n",
        "    val_data_loader,\n",
        "    device=\"cpu\",\n",
        "    epochs=100,\n",
        "    lr=0.001,\n",
        "    patience=3,\n",
        "    vocab_size=10,\n",
        "):\n",
        "    optimizer = optim.Adam(model.parameters(), lr=lr)\n",
        "    criterion = nn.CrossEntropyLoss(reduction=\"mean\")\n",
        "\n",
        "    best_val_loss = np.inf\n",
        "    patience_count = 0\n",
        "\n",
        "    train_losses = []  # List to store training losses\n",
        "    val_losses = []  # List to store validation losses\n",
        "\n",
        "    model.train()\n",
        "    for epoch in range(epochs):\n",
        "        total_loss = 0\n",
        "\n",
        "        # Training loop\n",
        "        for seq, target in tqdm(\n",
        "            train_data_loader, desc=f\"Epoch {epoch + 1} (Training)\"\n",
        "        ):\n",
        "            optimizer.zero_grad()\n",
        "            output = model(seq.to(device))\n",
        "            loss = criterion(\n",
        "                output.view(-1, output.size(-1)), target.to(device).view(-1)\n",
        "            )\n",
        "            loss.backward()\n",
        "            optimizer.step()\n",
        "            total_loss += loss.item()\n",
        "\n",
        "        # Calculate and print the average training loss for the epoch\n",
        "        average_train_loss = total_loss / len(train_data_loader)\n",
        "        print(f\"Epoch {epoch + 1} (Training), Loss: {average_train_loss:.4f}\")\n",
        "        train_losses.append(average_train_loss)  # Append training loss for plotting\n",
        "\n",
        "        # Validation loop\n",
        "        model.eval()\n",
        "        with torch.no_grad():\n",
        "            val_loss = 0\n",
        "\n",
        "            for val_seq, val_target in val_data_loader:\n",
        "                val_output = model(val_seq.to(device))\n",
        "                val_loss += criterion(\n",
        "                    val_output.view(-1, vocab_size), val_target.to(device).view(-1)\n",
        "                ).item()\n",
        "\n",
        "        # Calculate and print the average validation loss for the epoch\n",
        "        average_val_loss = val_loss / len(val_data_loader)\n",
        "        print(f\"Epoch {epoch + 1} (Validation), Loss: {average_val_loss:.4f}\")\n",
        "        val_losses.append(average_val_loss)  # Append validation loss for plotting\n",
        "\n",
        "        # Check for early stopping\n",
        "        # if average_val_loss < best_val_loss:\n",
        "        #     best_val_loss = average_val_loss\n",
        "        #     patience_count = 0\n",
        "        # else:\n",
        "        #     patience_count += 1\n",
        "        #     if patience_count >= patience:\n",
        "        #         print(f\"Early stopping after {patience} epochs without improvement.\")\n",
        "        #         break\n",
        "\n",
        "    return train_losses, val_losses"
      ]
    },
    {
      "cell_type": "code",
      "execution_count": null,
      "metadata": {
        "id": "x_pVRAjWJ2WO"
      },
      "outputs": [],
      "source": [
        "# Variables\n",
        "num_samples = 10000\n",
        "max_seq_length = 5\n",
        "t_size = 0.8\n",
        "vocab_size = 10\n",
        "device = \"cuda\"\n",
        "batch_size = 64\n",
        "epochs = 50"
      ]
    },
    {
      "cell_type": "code",
      "execution_count": null,
      "metadata": {
        "id": "fVZP5WPrK-lm"
      },
      "outputs": [],
      "source": [
        "# Earlier variables\n",
        "embed_dim = 512\n",
        "num_layers = 2\n",
        "expansion_factor = 4\n",
        "n_heads = 8\n",
        "dropout = 0.2"
      ]
    },
    {
      "cell_type": "code",
      "execution_count": null,
      "metadata": {
        "id": "b62NuUb86_0N"
      },
      "outputs": [],
      "source": [
        "# Optimzed variables\n",
        "optimized_embed_dim = 32\n",
        "optimized_num_layers = 2\n",
        "optimized_expansion_factor = 4\n",
        "optimized_n_heads = 4\n",
        "optimized_dropout = 0.2"
      ]
    },
    {
      "cell_type": "code",
      "execution_count": null,
      "metadata": {
        "colab": {
          "base_uri": "https://localhost:8080/"
        },
        "id": "ptxzJ4di7npk",
        "outputId": "0b18e002-1d2d-461f-95e6-bec9213cf36d"
      },
      "outputs": [
        {
          "name": "stdout",
          "output_type": "stream",
          "text": [
            "Size of Train Loader: 8000\n",
            "Size of Validation Loader: 1000\n",
            "Size of Test Loader: 1000\n"
          ]
        }
      ],
      "source": [
        "# Create a dataset of integer sequences and their reversals\n",
        "full_dataset = IntegerReverseDataset(num_samples=num_samples, max_length=max_seq_length)\n",
        "\n",
        "# Calculate the size of the training dataset and remaining dataset\n",
        "train_size = int(t_size * len(full_dataset))\n",
        "rem_size = len(full_dataset) - train_size\n",
        "\n",
        "# Splitting the data into training dataset and remaing dataset\n",
        "train_dataset, rem_dataset = random_split(full_dataset, [train_size, rem_size])\n",
        "\n",
        "# Splitting the remaing dataset into validation dataset and test dataset\n",
        "val_dataset, test_dataset = random_split(rem_dataset, [rem_size // 2, rem_size // 2])\n",
        "\n",
        "# Creating data loader\n",
        "train_loader = DataLoader(train_dataset, batch_size=batch_size, shuffle=True)\n",
        "val_loader = DataLoader(val_dataset, batch_size=batch_size, shuffle=False)\n",
        "test_loader = DataLoader(test_dataset, batch_size=batch_size, shuffle=False)\n",
        "\n",
        "print(f\"Size of Train Loader: {len(train_loader.dataset)}\")\n",
        "print(f\"Size of Validation Loader: {len(val_loader.dataset)}\")\n",
        "print(f\"Size of Test Loader: {len(test_loader.dataset)}\")"
      ]
    },
    {
      "cell_type": "code",
      "execution_count": null,
      "metadata": {
        "colab": {
          "base_uri": "https://localhost:8080/"
        },
        "id": "zkW_dA4dwNhz",
        "outputId": "72e88c13-9e3f-4174-bfc0-4bc5b8e4d155"
      },
      "outputs": [
        {
          "name": "stdout",
          "output_type": "stream",
          "text": [
            "Layer: embedding_layer\n",
            "Embedding(\n",
            "  (embed): Embedding(10, 512)\n",
            ")\n",
            "==================================================\n",
            "Layer: positional_encoder\n",
            "PositionalEmbedding()\n",
            "==================================================\n",
            "Layer: layers\n",
            "ModuleList(\n",
            "  (0-1): 2 x TransformerBlock(\n",
            "    (attention): MultiHeadAttention(\n",
            "      (query_matrix): Linear(in_features=64, out_features=64, bias=False)\n",
            "      (key_matrix): Linear(in_features=64, out_features=64, bias=False)\n",
            "      (value_matrix): Linear(in_features=64, out_features=64, bias=False)\n",
            "      (out): Linear(in_features=512, out_features=512, bias=True)\n",
            "    )\n",
            "    (norm1): LayerNorm((512,), eps=1e-05, elementwise_affine=True)\n",
            "    (norm2): LayerNorm((512,), eps=1e-05, elementwise_affine=True)\n",
            "    (feed_forward): Sequential(\n",
            "      (0): Linear(in_features=512, out_features=2048, bias=True)\n",
            "      (1): ReLU()\n",
            "      (2): Linear(in_features=2048, out_features=512, bias=True)\n",
            "    )\n",
            "    (dropout1): Dropout(p=0.2, inplace=False)\n",
            "    (dropout2): Dropout(p=0.2, inplace=False)\n",
            "  )\n",
            ")\n",
            "==================================================\n",
            "Layer: output_layer\n",
            "Linear(in_features=512, out_features=10, bias=True)\n",
            "==================================================\n"
          ]
        }
      ],
      "source": [
        "model = TransformerEncoder(\n",
        "    seq_len=max_seq_length,\n",
        "    vocab_size=vocab_size,\n",
        "    embed_dim=embed_dim,\n",
        "    num_layers=num_layers,\n",
        "    expansion_factor=expansion_factor,\n",
        "    n_heads=n_heads,\n",
        "    dropout=dropout,\n",
        ")\n",
        "optimized_model = TransformerEncoder(\n",
        "    seq_len=max_seq_length,\n",
        "    vocab_size=vocab_size,\n",
        "    embed_dim=optimized_embed_dim,\n",
        "    num_layers=optimized_num_layers,\n",
        "    expansion_factor=optimized_expansion_factor,\n",
        "    n_heads=optimized_n_heads,\n",
        "    dropout=optimized_dropout,\n",
        ")\n",
        "\n",
        "model = model.to(device)\n",
        "optimized_model = optimized_model.to(device)\n",
        "\n",
        "for name, layer in model.named_children():\n",
        "    print(f\"Layer: {name}\\n{layer}\")\n",
        "    print(\"=\" * 50)"
      ]
    },
    {
      "cell_type": "code",
      "execution_count": null,
      "metadata": {
        "colab": {
          "base_uri": "https://localhost:8080/"
        },
        "id": "eNPPkvvE5bvi",
        "outputId": "9c1a0657-8208-4e82-e53a-5fab8f31dc9c"
      },
      "outputs": [
        {
          "name": "stderr",
          "output_type": "stream",
          "text": [
            "Epoch 1 (Training): 100%|██████████| 125/125 [00:01<00:00, 117.12it/s]\n"
          ]
        },
        {
          "name": "stdout",
          "output_type": "stream",
          "text": [
            "Epoch 1 (Training), Loss: 1.3142\n",
            "Epoch 1 (Validation), Loss: 1.1559\n"
          ]
        },
        {
          "name": "stderr",
          "output_type": "stream",
          "text": [
            "Epoch 2 (Training): 100%|██████████| 125/125 [00:00<00:00, 126.51it/s]\n"
          ]
        },
        {
          "name": "stdout",
          "output_type": "stream",
          "text": [
            "Epoch 2 (Training), Loss: 1.1180\n",
            "Epoch 2 (Validation), Loss: 1.1166\n"
          ]
        },
        {
          "name": "stderr",
          "output_type": "stream",
          "text": [
            "Epoch 3 (Training): 100%|██████████| 125/125 [00:00<00:00, 128.76it/s]\n"
          ]
        },
        {
          "name": "stdout",
          "output_type": "stream",
          "text": [
            "Epoch 3 (Training), Loss: 1.0998\n",
            "Epoch 3 (Validation), Loss: 1.1027\n"
          ]
        },
        {
          "name": "stderr",
          "output_type": "stream",
          "text": [
            "Epoch 4 (Training): 100%|██████████| 125/125 [00:00<00:00, 131.53it/s]\n"
          ]
        },
        {
          "name": "stdout",
          "output_type": "stream",
          "text": [
            "Epoch 4 (Training), Loss: 1.0873\n",
            "Epoch 4 (Validation), Loss: 1.0941\n"
          ]
        },
        {
          "name": "stderr",
          "output_type": "stream",
          "text": [
            "Epoch 5 (Training): 100%|██████████| 125/125 [00:00<00:00, 129.80it/s]\n"
          ]
        },
        {
          "name": "stdout",
          "output_type": "stream",
          "text": [
            "Epoch 5 (Training), Loss: 1.0801\n",
            "Epoch 5 (Validation), Loss: 1.0919\n"
          ]
        },
        {
          "name": "stderr",
          "output_type": "stream",
          "text": [
            "Epoch 6 (Training): 100%|██████████| 125/125 [00:00<00:00, 126.19it/s]\n"
          ]
        },
        {
          "name": "stdout",
          "output_type": "stream",
          "text": [
            "Epoch 6 (Training), Loss: 1.0747\n",
            "Epoch 6 (Validation), Loss: 1.0883\n"
          ]
        },
        {
          "name": "stderr",
          "output_type": "stream",
          "text": [
            "Epoch 7 (Training): 100%|██████████| 125/125 [00:00<00:00, 127.70it/s]\n"
          ]
        },
        {
          "name": "stdout",
          "output_type": "stream",
          "text": [
            "Epoch 7 (Training), Loss: 1.0721\n",
            "Epoch 7 (Validation), Loss: 1.0892\n"
          ]
        },
        {
          "name": "stderr",
          "output_type": "stream",
          "text": [
            "Epoch 8 (Training): 100%|██████████| 125/125 [00:00<00:00, 126.48it/s]\n"
          ]
        },
        {
          "name": "stdout",
          "output_type": "stream",
          "text": [
            "Epoch 8 (Training), Loss: 1.0690\n",
            "Epoch 8 (Validation), Loss: 1.0893\n"
          ]
        },
        {
          "name": "stderr",
          "output_type": "stream",
          "text": [
            "Epoch 9 (Training): 100%|██████████| 125/125 [00:01<00:00, 110.50it/s]\n"
          ]
        },
        {
          "name": "stdout",
          "output_type": "stream",
          "text": [
            "Epoch 9 (Training), Loss: 1.0648\n",
            "Epoch 9 (Validation), Loss: 1.0864\n"
          ]
        },
        {
          "name": "stderr",
          "output_type": "stream",
          "text": [
            "Epoch 10 (Training): 100%|██████████| 125/125 [00:01<00:00, 98.83it/s] \n"
          ]
        },
        {
          "name": "stdout",
          "output_type": "stream",
          "text": [
            "Epoch 10 (Training), Loss: 1.0644\n",
            "Epoch 10 (Validation), Loss: 1.0883\n"
          ]
        },
        {
          "name": "stderr",
          "output_type": "stream",
          "text": [
            "Epoch 11 (Training): 100%|██████████| 125/125 [00:01<00:00, 98.68it/s] \n"
          ]
        },
        {
          "name": "stdout",
          "output_type": "stream",
          "text": [
            "Epoch 11 (Training), Loss: 1.0636\n",
            "Epoch 11 (Validation), Loss: 1.0886\n"
          ]
        },
        {
          "name": "stderr",
          "output_type": "stream",
          "text": [
            "Epoch 12 (Training): 100%|██████████| 125/125 [00:01<00:00, 107.65it/s]\n"
          ]
        },
        {
          "name": "stdout",
          "output_type": "stream",
          "text": [
            "Epoch 12 (Training), Loss: 1.0612\n",
            "Epoch 12 (Validation), Loss: 1.0887\n"
          ]
        },
        {
          "name": "stderr",
          "output_type": "stream",
          "text": [
            "Epoch 13 (Training): 100%|██████████| 125/125 [00:00<00:00, 127.46it/s]\n"
          ]
        },
        {
          "name": "stdout",
          "output_type": "stream",
          "text": [
            "Epoch 13 (Training), Loss: 1.0583\n",
            "Epoch 13 (Validation), Loss: 1.0876\n"
          ]
        },
        {
          "name": "stderr",
          "output_type": "stream",
          "text": [
            "Epoch 14 (Training): 100%|██████████| 125/125 [00:00<00:00, 128.95it/s]\n"
          ]
        },
        {
          "name": "stdout",
          "output_type": "stream",
          "text": [
            "Epoch 14 (Training), Loss: 1.0583\n",
            "Epoch 14 (Validation), Loss: 1.0838\n"
          ]
        },
        {
          "name": "stderr",
          "output_type": "stream",
          "text": [
            "Epoch 15 (Training): 100%|██████████| 125/125 [00:01<00:00, 71.81it/s]\n"
          ]
        },
        {
          "name": "stdout",
          "output_type": "stream",
          "text": [
            "Epoch 15 (Training), Loss: 1.0569\n",
            "Epoch 15 (Validation), Loss: 1.0948\n"
          ]
        },
        {
          "name": "stderr",
          "output_type": "stream",
          "text": [
            "Epoch 16 (Training): 100%|██████████| 125/125 [00:02<00:00, 57.89it/s]\n"
          ]
        },
        {
          "name": "stdout",
          "output_type": "stream",
          "text": [
            "Epoch 16 (Training), Loss: 1.0546\n",
            "Epoch 16 (Validation), Loss: 1.0932\n"
          ]
        },
        {
          "name": "stderr",
          "output_type": "stream",
          "text": [
            "Epoch 17 (Training): 100%|██████████| 125/125 [00:01<00:00, 90.47it/s]\n"
          ]
        },
        {
          "name": "stdout",
          "output_type": "stream",
          "text": [
            "Epoch 17 (Training), Loss: 1.0549\n",
            "Epoch 17 (Validation), Loss: 1.0890\n"
          ]
        },
        {
          "name": "stderr",
          "output_type": "stream",
          "text": [
            "Epoch 18 (Training): 100%|██████████| 125/125 [00:02<00:00, 47.51it/s]\n"
          ]
        },
        {
          "name": "stdout",
          "output_type": "stream",
          "text": [
            "Epoch 18 (Training), Loss: 1.0529\n",
            "Epoch 18 (Validation), Loss: 1.0864\n"
          ]
        },
        {
          "name": "stderr",
          "output_type": "stream",
          "text": [
            "Epoch 19 (Training): 100%|██████████| 125/125 [00:02<00:00, 57.41it/s]\n"
          ]
        },
        {
          "name": "stdout",
          "output_type": "stream",
          "text": [
            "Epoch 19 (Training), Loss: 1.0511\n",
            "Epoch 19 (Validation), Loss: 1.0938\n"
          ]
        },
        {
          "name": "stderr",
          "output_type": "stream",
          "text": [
            "Epoch 20 (Training): 100%|██████████| 125/125 [00:02<00:00, 57.99it/s]\n"
          ]
        },
        {
          "name": "stdout",
          "output_type": "stream",
          "text": [
            "Epoch 20 (Training), Loss: 1.0539\n",
            "Epoch 20 (Validation), Loss: 1.0985\n"
          ]
        },
        {
          "name": "stderr",
          "output_type": "stream",
          "text": [
            "Epoch 21 (Training): 100%|██████████| 125/125 [00:01<00:00, 67.96it/s]\n"
          ]
        },
        {
          "name": "stdout",
          "output_type": "stream",
          "text": [
            "Epoch 21 (Training), Loss: 1.0500\n",
            "Epoch 21 (Validation), Loss: 1.0916\n"
          ]
        },
        {
          "name": "stderr",
          "output_type": "stream",
          "text": [
            "Epoch 22 (Training): 100%|██████████| 125/125 [00:01<00:00, 65.99it/s]\n"
          ]
        },
        {
          "name": "stdout",
          "output_type": "stream",
          "text": [
            "Epoch 22 (Training), Loss: 1.0479\n",
            "Epoch 22 (Validation), Loss: 1.0973\n"
          ]
        },
        {
          "name": "stderr",
          "output_type": "stream",
          "text": [
            "Epoch 23 (Training): 100%|██████████| 125/125 [00:01<00:00, 75.67it/s]\n"
          ]
        },
        {
          "name": "stdout",
          "output_type": "stream",
          "text": [
            "Epoch 23 (Training), Loss: 1.0480\n",
            "Epoch 23 (Validation), Loss: 1.1035\n"
          ]
        },
        {
          "name": "stderr",
          "output_type": "stream",
          "text": [
            "Epoch 24 (Training): 100%|██████████| 125/125 [00:01<00:00, 66.32it/s]\n"
          ]
        },
        {
          "name": "stdout",
          "output_type": "stream",
          "text": [
            "Epoch 24 (Training), Loss: 1.0470\n",
            "Epoch 24 (Validation), Loss: 1.0930\n"
          ]
        },
        {
          "name": "stderr",
          "output_type": "stream",
          "text": [
            "Epoch 25 (Training): 100%|██████████| 125/125 [00:01<00:00, 76.08it/s]\n"
          ]
        },
        {
          "name": "stdout",
          "output_type": "stream",
          "text": [
            "Epoch 25 (Training), Loss: 1.0433\n",
            "Epoch 25 (Validation), Loss: 1.0999\n"
          ]
        },
        {
          "name": "stderr",
          "output_type": "stream",
          "text": [
            "Epoch 26 (Training): 100%|██████████| 125/125 [00:02<00:00, 52.81it/s]\n"
          ]
        },
        {
          "name": "stdout",
          "output_type": "stream",
          "text": [
            "Epoch 26 (Training), Loss: 1.0441\n",
            "Epoch 26 (Validation), Loss: 1.1006\n"
          ]
        },
        {
          "name": "stderr",
          "output_type": "stream",
          "text": [
            "Epoch 27 (Training): 100%|██████████| 125/125 [00:01<00:00, 65.23it/s]\n"
          ]
        },
        {
          "name": "stdout",
          "output_type": "stream",
          "text": [
            "Epoch 27 (Training), Loss: 1.0426\n",
            "Epoch 27 (Validation), Loss: 1.1091\n"
          ]
        },
        {
          "name": "stderr",
          "output_type": "stream",
          "text": [
            "Epoch 28 (Training): 100%|██████████| 125/125 [00:01<00:00, 76.16it/s]\n"
          ]
        },
        {
          "name": "stdout",
          "output_type": "stream",
          "text": [
            "Epoch 28 (Training), Loss: 1.0458\n",
            "Epoch 28 (Validation), Loss: 1.1098\n"
          ]
        },
        {
          "name": "stderr",
          "output_type": "stream",
          "text": [
            "Epoch 29 (Training): 100%|██████████| 125/125 [00:01<00:00, 78.84it/s]\n"
          ]
        },
        {
          "name": "stdout",
          "output_type": "stream",
          "text": [
            "Epoch 29 (Training), Loss: 1.0666\n",
            "Epoch 29 (Validation), Loss: 1.0844\n"
          ]
        },
        {
          "name": "stderr",
          "output_type": "stream",
          "text": [
            "Epoch 30 (Training): 100%|██████████| 125/125 [00:00<00:00, 130.63it/s]\n"
          ]
        },
        {
          "name": "stdout",
          "output_type": "stream",
          "text": [
            "Epoch 30 (Training), Loss: 1.0565\n",
            "Epoch 30 (Validation), Loss: 1.0894\n"
          ]
        },
        {
          "name": "stderr",
          "output_type": "stream",
          "text": [
            "Epoch 31 (Training): 100%|██████████| 125/125 [00:01<00:00, 80.96it/s]\n"
          ]
        },
        {
          "name": "stdout",
          "output_type": "stream",
          "text": [
            "Epoch 31 (Training), Loss: 1.0511\n",
            "Epoch 31 (Validation), Loss: 1.0887\n"
          ]
        },
        {
          "name": "stderr",
          "output_type": "stream",
          "text": [
            "Epoch 32 (Training): 100%|██████████| 125/125 [00:00<00:00, 126.44it/s]\n"
          ]
        },
        {
          "name": "stdout",
          "output_type": "stream",
          "text": [
            "Epoch 32 (Training), Loss: 1.0480\n",
            "Epoch 32 (Validation), Loss: 1.0969\n"
          ]
        },
        {
          "name": "stderr",
          "output_type": "stream",
          "text": [
            "Epoch 33 (Training): 100%|██████████| 125/125 [00:00<00:00, 125.54it/s]\n"
          ]
        },
        {
          "name": "stdout",
          "output_type": "stream",
          "text": [
            "Epoch 33 (Training), Loss: 1.0472\n",
            "Epoch 33 (Validation), Loss: 1.0987\n"
          ]
        },
        {
          "name": "stderr",
          "output_type": "stream",
          "text": [
            "Epoch 34 (Training): 100%|██████████| 125/125 [00:00<00:00, 128.15it/s]\n"
          ]
        },
        {
          "name": "stdout",
          "output_type": "stream",
          "text": [
            "Epoch 34 (Training), Loss: 1.0450\n",
            "Epoch 34 (Validation), Loss: 1.0997\n"
          ]
        },
        {
          "name": "stderr",
          "output_type": "stream",
          "text": [
            "Epoch 35 (Training): 100%|██████████| 125/125 [00:01<00:00, 95.95it/s]\n"
          ]
        },
        {
          "name": "stdout",
          "output_type": "stream",
          "text": [
            "Epoch 35 (Training), Loss: 1.0440\n",
            "Epoch 35 (Validation), Loss: 1.0989\n"
          ]
        },
        {
          "name": "stderr",
          "output_type": "stream",
          "text": [
            "Epoch 36 (Training): 100%|██████████| 125/125 [00:01<00:00, 99.92it/s] \n"
          ]
        },
        {
          "name": "stdout",
          "output_type": "stream",
          "text": [
            "Epoch 36 (Training), Loss: 1.0435\n",
            "Epoch 36 (Validation), Loss: 1.0949\n"
          ]
        },
        {
          "name": "stderr",
          "output_type": "stream",
          "text": [
            "Epoch 37 (Training): 100%|██████████| 125/125 [00:01<00:00, 102.40it/s]\n"
          ]
        },
        {
          "name": "stdout",
          "output_type": "stream",
          "text": [
            "Epoch 37 (Training), Loss: 1.0411\n",
            "Epoch 37 (Validation), Loss: 1.1038\n"
          ]
        },
        {
          "name": "stderr",
          "output_type": "stream",
          "text": [
            "Epoch 38 (Training): 100%|██████████| 125/125 [00:00<00:00, 126.82it/s]\n"
          ]
        },
        {
          "name": "stdout",
          "output_type": "stream",
          "text": [
            "Epoch 38 (Training), Loss: 1.0395\n",
            "Epoch 38 (Validation), Loss: 1.1091\n"
          ]
        },
        {
          "name": "stderr",
          "output_type": "stream",
          "text": [
            "Epoch 39 (Training): 100%|██████████| 125/125 [00:00<00:00, 128.16it/s]\n"
          ]
        },
        {
          "name": "stdout",
          "output_type": "stream",
          "text": [
            "Epoch 39 (Training), Loss: 1.0385\n",
            "Epoch 39 (Validation), Loss: 1.1079\n"
          ]
        },
        {
          "name": "stderr",
          "output_type": "stream",
          "text": [
            "Epoch 40 (Training): 100%|██████████| 125/125 [00:00<00:00, 128.86it/s]\n"
          ]
        },
        {
          "name": "stdout",
          "output_type": "stream",
          "text": [
            "Epoch 40 (Training), Loss: 1.0360\n",
            "Epoch 40 (Validation), Loss: 1.1108\n"
          ]
        },
        {
          "name": "stderr",
          "output_type": "stream",
          "text": [
            "Epoch 41 (Training): 100%|██████████| 125/125 [00:00<00:00, 126.15it/s]\n"
          ]
        },
        {
          "name": "stdout",
          "output_type": "stream",
          "text": [
            "Epoch 41 (Training), Loss: 1.0356\n",
            "Epoch 41 (Validation), Loss: 1.1104\n"
          ]
        },
        {
          "name": "stderr",
          "output_type": "stream",
          "text": [
            "Epoch 42 (Training): 100%|██████████| 125/125 [00:00<00:00, 130.70it/s]\n"
          ]
        },
        {
          "name": "stdout",
          "output_type": "stream",
          "text": [
            "Epoch 42 (Training), Loss: 1.0331\n",
            "Epoch 42 (Validation), Loss: 1.1122\n"
          ]
        },
        {
          "name": "stderr",
          "output_type": "stream",
          "text": [
            "Epoch 43 (Training): 100%|██████████| 125/125 [00:00<00:00, 129.90it/s]\n"
          ]
        },
        {
          "name": "stdout",
          "output_type": "stream",
          "text": [
            "Epoch 43 (Training), Loss: 1.0338\n",
            "Epoch 43 (Validation), Loss: 1.1235\n"
          ]
        },
        {
          "name": "stderr",
          "output_type": "stream",
          "text": [
            "Epoch 44 (Training): 100%|██████████| 125/125 [00:00<00:00, 128.64it/s]\n"
          ]
        },
        {
          "name": "stdout",
          "output_type": "stream",
          "text": [
            "Epoch 44 (Training), Loss: 1.0328\n",
            "Epoch 44 (Validation), Loss: 1.1100\n"
          ]
        },
        {
          "name": "stderr",
          "output_type": "stream",
          "text": [
            "Epoch 45 (Training): 100%|██████████| 125/125 [00:00<00:00, 127.76it/s]\n"
          ]
        },
        {
          "name": "stdout",
          "output_type": "stream",
          "text": [
            "Epoch 45 (Training), Loss: 1.0308\n",
            "Epoch 45 (Validation), Loss: 1.1151\n"
          ]
        },
        {
          "name": "stderr",
          "output_type": "stream",
          "text": [
            "Epoch 46 (Training): 100%|██████████| 125/125 [00:00<00:00, 125.86it/s]\n"
          ]
        },
        {
          "name": "stdout",
          "output_type": "stream",
          "text": [
            "Epoch 46 (Training), Loss: 1.0385\n",
            "Epoch 46 (Validation), Loss: 1.1212\n"
          ]
        },
        {
          "name": "stderr",
          "output_type": "stream",
          "text": [
            "Epoch 47 (Training): 100%|██████████| 125/125 [00:01<00:00, 109.72it/s]\n"
          ]
        },
        {
          "name": "stdout",
          "output_type": "stream",
          "text": [
            "Epoch 47 (Training), Loss: 1.0329\n",
            "Epoch 47 (Validation), Loss: 1.1092\n"
          ]
        },
        {
          "name": "stderr",
          "output_type": "stream",
          "text": [
            "Epoch 48 (Training): 100%|██████████| 125/125 [00:01<00:00, 97.78it/s]\n"
          ]
        },
        {
          "name": "stdout",
          "output_type": "stream",
          "text": [
            "Epoch 48 (Training), Loss: 1.0310\n",
            "Epoch 48 (Validation), Loss: 1.1098\n"
          ]
        },
        {
          "name": "stderr",
          "output_type": "stream",
          "text": [
            "Epoch 49 (Training): 100%|██████████| 125/125 [00:01<00:00, 98.24it/s]\n"
          ]
        },
        {
          "name": "stdout",
          "output_type": "stream",
          "text": [
            "Epoch 49 (Training), Loss: 1.0287\n",
            "Epoch 49 (Validation), Loss: 1.1172\n"
          ]
        },
        {
          "name": "stderr",
          "output_type": "stream",
          "text": [
            "Epoch 50 (Training): 100%|██████████| 125/125 [00:01<00:00, 113.66it/s]\n"
          ]
        },
        {
          "name": "stdout",
          "output_type": "stream",
          "text": [
            "Epoch 50 (Training), Loss: 1.0275\n",
            "Epoch 50 (Validation), Loss: 1.1162\n"
          ]
        },
        {
          "name": "stderr",
          "output_type": "stream",
          "text": [
            "Epoch 1 (Training): 100%|██████████| 125/125 [00:00<00:00, 156.33it/s]\n"
          ]
        },
        {
          "name": "stdout",
          "output_type": "stream",
          "text": [
            "Epoch 1 (Training), Loss: 1.9646\n",
            "Epoch 1 (Validation), Loss: 1.6019\n"
          ]
        },
        {
          "name": "stderr",
          "output_type": "stream",
          "text": [
            "Epoch 2 (Training): 100%|██████████| 125/125 [00:00<00:00, 164.48it/s]\n"
          ]
        },
        {
          "name": "stdout",
          "output_type": "stream",
          "text": [
            "Epoch 2 (Training), Loss: 1.3586\n",
            "Epoch 2 (Validation), Loss: 1.2363\n"
          ]
        },
        {
          "name": "stderr",
          "output_type": "stream",
          "text": [
            "Epoch 3 (Training): 100%|██████████| 125/125 [00:00<00:00, 158.28it/s]\n"
          ]
        },
        {
          "name": "stdout",
          "output_type": "stream",
          "text": [
            "Epoch 3 (Training), Loss: 1.1921\n",
            "Epoch 3 (Validation), Loss: 1.1850\n"
          ]
        },
        {
          "name": "stderr",
          "output_type": "stream",
          "text": [
            "Epoch 4 (Training): 100%|██████████| 125/125 [00:00<00:00, 161.98it/s]\n"
          ]
        },
        {
          "name": "stdout",
          "output_type": "stream",
          "text": [
            "Epoch 4 (Training), Loss: 1.1552\n",
            "Epoch 4 (Validation), Loss: 1.1581\n"
          ]
        },
        {
          "name": "stderr",
          "output_type": "stream",
          "text": [
            "Epoch 5 (Training): 100%|██████████| 125/125 [00:00<00:00, 166.39it/s]\n"
          ]
        },
        {
          "name": "stdout",
          "output_type": "stream",
          "text": [
            "Epoch 5 (Training), Loss: 1.1327\n",
            "Epoch 5 (Validation), Loss: 1.1504\n"
          ]
        },
        {
          "name": "stderr",
          "output_type": "stream",
          "text": [
            "Epoch 6 (Training): 100%|██████████| 125/125 [00:00<00:00, 165.04it/s]\n"
          ]
        },
        {
          "name": "stdout",
          "output_type": "stream",
          "text": [
            "Epoch 6 (Training), Loss: 1.1186\n",
            "Epoch 6 (Validation), Loss: 1.1324\n"
          ]
        },
        {
          "name": "stderr",
          "output_type": "stream",
          "text": [
            "Epoch 7 (Training): 100%|██████████| 125/125 [00:00<00:00, 162.79it/s]\n"
          ]
        },
        {
          "name": "stdout",
          "output_type": "stream",
          "text": [
            "Epoch 7 (Training), Loss: 1.1076\n",
            "Epoch 7 (Validation), Loss: 1.1306\n"
          ]
        },
        {
          "name": "stderr",
          "output_type": "stream",
          "text": [
            "Epoch 8 (Training): 100%|██████████| 125/125 [00:00<00:00, 162.79it/s]\n"
          ]
        },
        {
          "name": "stdout",
          "output_type": "stream",
          "text": [
            "Epoch 8 (Training), Loss: 1.0985\n",
            "Epoch 8 (Validation), Loss: 1.1204\n"
          ]
        },
        {
          "name": "stderr",
          "output_type": "stream",
          "text": [
            "Epoch 9 (Training): 100%|██████████| 125/125 [00:00<00:00, 165.58it/s]\n"
          ]
        },
        {
          "name": "stdout",
          "output_type": "stream",
          "text": [
            "Epoch 9 (Training), Loss: 1.0922\n",
            "Epoch 9 (Validation), Loss: 1.1143\n"
          ]
        },
        {
          "name": "stderr",
          "output_type": "stream",
          "text": [
            "Epoch 10 (Training): 100%|██████████| 125/125 [00:00<00:00, 166.87it/s]\n"
          ]
        },
        {
          "name": "stdout",
          "output_type": "stream",
          "text": [
            "Epoch 10 (Training), Loss: 1.0870\n",
            "Epoch 10 (Validation), Loss: 1.1152\n"
          ]
        },
        {
          "name": "stderr",
          "output_type": "stream",
          "text": [
            "Epoch 11 (Training): 100%|██████████| 125/125 [00:00<00:00, 171.37it/s]\n"
          ]
        },
        {
          "name": "stdout",
          "output_type": "stream",
          "text": [
            "Epoch 11 (Training), Loss: 1.0827\n",
            "Epoch 11 (Validation), Loss: 1.1086\n"
          ]
        },
        {
          "name": "stderr",
          "output_type": "stream",
          "text": [
            "Epoch 12 (Training): 100%|██████████| 125/125 [00:00<00:00, 127.70it/s]\n"
          ]
        },
        {
          "name": "stdout",
          "output_type": "stream",
          "text": [
            "Epoch 12 (Training), Loss: 1.0780\n",
            "Epoch 12 (Validation), Loss: 1.1071\n"
          ]
        },
        {
          "name": "stderr",
          "output_type": "stream",
          "text": [
            "Epoch 13 (Training): 100%|██████████| 125/125 [00:01<00:00, 118.43it/s]\n"
          ]
        },
        {
          "name": "stdout",
          "output_type": "stream",
          "text": [
            "Epoch 13 (Training), Loss: 1.0748\n",
            "Epoch 13 (Validation), Loss: 1.1047\n"
          ]
        },
        {
          "name": "stderr",
          "output_type": "stream",
          "text": [
            "Epoch 14 (Training): 100%|██████████| 125/125 [00:01<00:00, 117.82it/s]\n"
          ]
        },
        {
          "name": "stdout",
          "output_type": "stream",
          "text": [
            "Epoch 14 (Training), Loss: 1.0702\n",
            "Epoch 14 (Validation), Loss: 1.1007\n"
          ]
        },
        {
          "name": "stderr",
          "output_type": "stream",
          "text": [
            "Epoch 15 (Training): 100%|██████████| 125/125 [00:00<00:00, 139.17it/s]\n"
          ]
        },
        {
          "name": "stdout",
          "output_type": "stream",
          "text": [
            "Epoch 15 (Training), Loss: 1.0663\n",
            "Epoch 15 (Validation), Loss: 1.0980\n"
          ]
        },
        {
          "name": "stderr",
          "output_type": "stream",
          "text": [
            "Epoch 16 (Training): 100%|██████████| 125/125 [00:00<00:00, 164.88it/s]\n"
          ]
        },
        {
          "name": "stdout",
          "output_type": "stream",
          "text": [
            "Epoch 16 (Training), Loss: 1.0623\n",
            "Epoch 16 (Validation), Loss: 1.0958\n"
          ]
        },
        {
          "name": "stderr",
          "output_type": "stream",
          "text": [
            "Epoch 17 (Training): 100%|██████████| 125/125 [00:00<00:00, 165.17it/s]\n"
          ]
        },
        {
          "name": "stdout",
          "output_type": "stream",
          "text": [
            "Epoch 17 (Training), Loss: 1.0581\n",
            "Epoch 17 (Validation), Loss: 1.0934\n"
          ]
        },
        {
          "name": "stderr",
          "output_type": "stream",
          "text": [
            "Epoch 18 (Training): 100%|██████████| 125/125 [00:00<00:00, 159.84it/s]\n"
          ]
        },
        {
          "name": "stdout",
          "output_type": "stream",
          "text": [
            "Epoch 18 (Training), Loss: 1.0553\n",
            "Epoch 18 (Validation), Loss: 1.0862\n"
          ]
        },
        {
          "name": "stderr",
          "output_type": "stream",
          "text": [
            "Epoch 19 (Training): 100%|██████████| 125/125 [00:00<00:00, 168.80it/s]\n"
          ]
        },
        {
          "name": "stdout",
          "output_type": "stream",
          "text": [
            "Epoch 19 (Training), Loss: 1.0518\n",
            "Epoch 19 (Validation), Loss: 1.0901\n"
          ]
        },
        {
          "name": "stderr",
          "output_type": "stream",
          "text": [
            "Epoch 20 (Training): 100%|██████████| 125/125 [00:00<00:00, 163.36it/s]\n"
          ]
        },
        {
          "name": "stdout",
          "output_type": "stream",
          "text": [
            "Epoch 20 (Training), Loss: 1.0466\n",
            "Epoch 20 (Validation), Loss: 1.0758\n"
          ]
        },
        {
          "name": "stderr",
          "output_type": "stream",
          "text": [
            "Epoch 21 (Training): 100%|██████████| 125/125 [00:00<00:00, 163.96it/s]\n"
          ]
        },
        {
          "name": "stdout",
          "output_type": "stream",
          "text": [
            "Epoch 21 (Training), Loss: 1.0430\n",
            "Epoch 21 (Validation), Loss: 1.0794\n"
          ]
        },
        {
          "name": "stderr",
          "output_type": "stream",
          "text": [
            "Epoch 22 (Training): 100%|██████████| 125/125 [00:00<00:00, 171.71it/s]\n"
          ]
        },
        {
          "name": "stdout",
          "output_type": "stream",
          "text": [
            "Epoch 22 (Training), Loss: 1.0372\n",
            "Epoch 22 (Validation), Loss: 1.0691\n"
          ]
        },
        {
          "name": "stderr",
          "output_type": "stream",
          "text": [
            "Epoch 23 (Training): 100%|██████████| 125/125 [00:00<00:00, 166.12it/s]\n"
          ]
        },
        {
          "name": "stdout",
          "output_type": "stream",
          "text": [
            "Epoch 23 (Training), Loss: 1.0307\n",
            "Epoch 23 (Validation), Loss: 1.0627\n"
          ]
        },
        {
          "name": "stderr",
          "output_type": "stream",
          "text": [
            "Epoch 24 (Training): 100%|██████████| 125/125 [00:00<00:00, 171.00it/s]\n"
          ]
        },
        {
          "name": "stdout",
          "output_type": "stream",
          "text": [
            "Epoch 24 (Training), Loss: 1.0269\n",
            "Epoch 24 (Validation), Loss: 1.0625\n"
          ]
        },
        {
          "name": "stderr",
          "output_type": "stream",
          "text": [
            "Epoch 25 (Training): 100%|██████████| 125/125 [00:00<00:00, 168.32it/s]\n"
          ]
        },
        {
          "name": "stdout",
          "output_type": "stream",
          "text": [
            "Epoch 25 (Training), Loss: 1.0196\n",
            "Epoch 25 (Validation), Loss: 1.0585\n"
          ]
        },
        {
          "name": "stderr",
          "output_type": "stream",
          "text": [
            "Epoch 26 (Training): 100%|██████████| 125/125 [00:00<00:00, 166.07it/s]\n"
          ]
        },
        {
          "name": "stdout",
          "output_type": "stream",
          "text": [
            "Epoch 26 (Training), Loss: 1.0130\n",
            "Epoch 26 (Validation), Loss: 1.0497\n"
          ]
        },
        {
          "name": "stderr",
          "output_type": "stream",
          "text": [
            "Epoch 27 (Training): 100%|██████████| 125/125 [00:00<00:00, 162.05it/s]\n"
          ]
        },
        {
          "name": "stdout",
          "output_type": "stream",
          "text": [
            "Epoch 27 (Training), Loss: 1.0064\n",
            "Epoch 27 (Validation), Loss: 1.0430\n"
          ]
        },
        {
          "name": "stderr",
          "output_type": "stream",
          "text": [
            "Epoch 28 (Training): 100%|██████████| 125/125 [00:01<00:00, 113.98it/s]\n"
          ]
        },
        {
          "name": "stdout",
          "output_type": "stream",
          "text": [
            "Epoch 28 (Training), Loss: 1.0004\n",
            "Epoch 28 (Validation), Loss: 1.0330\n"
          ]
        },
        {
          "name": "stderr",
          "output_type": "stream",
          "text": [
            "Epoch 29 (Training): 100%|██████████| 125/125 [00:01<00:00, 117.97it/s]\n"
          ]
        },
        {
          "name": "stdout",
          "output_type": "stream",
          "text": [
            "Epoch 29 (Training), Loss: 0.9942\n",
            "Epoch 29 (Validation), Loss: 1.0362\n"
          ]
        },
        {
          "name": "stderr",
          "output_type": "stream",
          "text": [
            "Epoch 30 (Training): 100%|██████████| 125/125 [00:01<00:00, 118.98it/s]\n"
          ]
        },
        {
          "name": "stdout",
          "output_type": "stream",
          "text": [
            "Epoch 30 (Training), Loss: 0.9860\n",
            "Epoch 30 (Validation), Loss: 1.0252\n"
          ]
        },
        {
          "name": "stderr",
          "output_type": "stream",
          "text": [
            "Epoch 31 (Training): 100%|██████████| 125/125 [00:00<00:00, 168.56it/s]\n"
          ]
        },
        {
          "name": "stdout",
          "output_type": "stream",
          "text": [
            "Epoch 31 (Training), Loss: 0.9760\n",
            "Epoch 31 (Validation), Loss: 1.0147\n"
          ]
        },
        {
          "name": "stderr",
          "output_type": "stream",
          "text": [
            "Epoch 32 (Training): 100%|██████████| 125/125 [00:00<00:00, 164.56it/s]\n"
          ]
        },
        {
          "name": "stdout",
          "output_type": "stream",
          "text": [
            "Epoch 32 (Training), Loss: 0.9651\n",
            "Epoch 32 (Validation), Loss: 1.0070\n"
          ]
        },
        {
          "name": "stderr",
          "output_type": "stream",
          "text": [
            "Epoch 33 (Training): 100%|██████████| 125/125 [00:00<00:00, 168.32it/s]\n"
          ]
        },
        {
          "name": "stdout",
          "output_type": "stream",
          "text": [
            "Epoch 33 (Training), Loss: 0.9439\n",
            "Epoch 33 (Validation), Loss: 0.9665\n"
          ]
        },
        {
          "name": "stderr",
          "output_type": "stream",
          "text": [
            "Epoch 34 (Training): 100%|██████████| 125/125 [00:00<00:00, 166.83it/s]\n"
          ]
        },
        {
          "name": "stdout",
          "output_type": "stream",
          "text": [
            "Epoch 34 (Training), Loss: 0.8813\n",
            "Epoch 34 (Validation), Loss: 0.8773\n"
          ]
        },
        {
          "name": "stderr",
          "output_type": "stream",
          "text": [
            "Epoch 35 (Training): 100%|██████████| 125/125 [00:00<00:00, 167.21it/s]\n"
          ]
        },
        {
          "name": "stdout",
          "output_type": "stream",
          "text": [
            "Epoch 35 (Training), Loss: 0.7598\n",
            "Epoch 35 (Validation), Loss: 0.7097\n"
          ]
        },
        {
          "name": "stderr",
          "output_type": "stream",
          "text": [
            "Epoch 36 (Training): 100%|██████████| 125/125 [00:00<00:00, 170.48it/s]\n"
          ]
        },
        {
          "name": "stdout",
          "output_type": "stream",
          "text": [
            "Epoch 36 (Training), Loss: 0.6234\n",
            "Epoch 36 (Validation), Loss: 0.5571\n"
          ]
        },
        {
          "name": "stderr",
          "output_type": "stream",
          "text": [
            "Epoch 37 (Training): 100%|██████████| 125/125 [00:00<00:00, 170.76it/s]\n"
          ]
        },
        {
          "name": "stdout",
          "output_type": "stream",
          "text": [
            "Epoch 37 (Training), Loss: 0.5016\n",
            "Epoch 37 (Validation), Loss: 0.4815\n"
          ]
        },
        {
          "name": "stderr",
          "output_type": "stream",
          "text": [
            "Epoch 38 (Training): 100%|██████████| 125/125 [00:00<00:00, 164.25it/s]\n"
          ]
        },
        {
          "name": "stdout",
          "output_type": "stream",
          "text": [
            "Epoch 38 (Training), Loss: 0.4219\n",
            "Epoch 38 (Validation), Loss: 0.3992\n"
          ]
        },
        {
          "name": "stderr",
          "output_type": "stream",
          "text": [
            "Epoch 39 (Training): 100%|██████████| 125/125 [00:00<00:00, 165.93it/s]\n"
          ]
        },
        {
          "name": "stdout",
          "output_type": "stream",
          "text": [
            "Epoch 39 (Training), Loss: 0.3495\n",
            "Epoch 39 (Validation), Loss: 0.3715\n"
          ]
        },
        {
          "name": "stderr",
          "output_type": "stream",
          "text": [
            "Epoch 40 (Training): 100%|██████████| 125/125 [00:00<00:00, 170.81it/s]\n"
          ]
        },
        {
          "name": "stdout",
          "output_type": "stream",
          "text": [
            "Epoch 40 (Training), Loss: 0.2984\n",
            "Epoch 40 (Validation), Loss: 0.2981\n"
          ]
        },
        {
          "name": "stderr",
          "output_type": "stream",
          "text": [
            "Epoch 41 (Training): 100%|██████████| 125/125 [00:00<00:00, 164.35it/s]\n"
          ]
        },
        {
          "name": "stdout",
          "output_type": "stream",
          "text": [
            "Epoch 41 (Training), Loss: 0.2652\n",
            "Epoch 41 (Validation), Loss: 0.2634\n"
          ]
        },
        {
          "name": "stderr",
          "output_type": "stream",
          "text": [
            "Epoch 42 (Training): 100%|██████████| 125/125 [00:00<00:00, 168.14it/s]\n"
          ]
        },
        {
          "name": "stdout",
          "output_type": "stream",
          "text": [
            "Epoch 42 (Training), Loss: 0.2425\n",
            "Epoch 42 (Validation), Loss: 0.2465\n"
          ]
        },
        {
          "name": "stderr",
          "output_type": "stream",
          "text": [
            "Epoch 43 (Training): 100%|██████████| 125/125 [00:00<00:00, 145.91it/s]\n"
          ]
        },
        {
          "name": "stdout",
          "output_type": "stream",
          "text": [
            "Epoch 43 (Training), Loss: 0.2205\n",
            "Epoch 43 (Validation), Loss: 0.2307\n"
          ]
        },
        {
          "name": "stderr",
          "output_type": "stream",
          "text": [
            "Epoch 44 (Training): 100%|██████████| 125/125 [00:01<00:00, 117.51it/s]\n"
          ]
        },
        {
          "name": "stdout",
          "output_type": "stream",
          "text": [
            "Epoch 44 (Training), Loss: 0.2034\n",
            "Epoch 44 (Validation), Loss: 0.2043\n"
          ]
        },
        {
          "name": "stderr",
          "output_type": "stream",
          "text": [
            "Epoch 45 (Training): 100%|██████████| 125/125 [00:01<00:00, 121.01it/s]\n"
          ]
        },
        {
          "name": "stdout",
          "output_type": "stream",
          "text": [
            "Epoch 45 (Training), Loss: 0.1813\n",
            "Epoch 45 (Validation), Loss: 0.1804\n"
          ]
        },
        {
          "name": "stderr",
          "output_type": "stream",
          "text": [
            "Epoch 46 (Training): 100%|██████████| 125/125 [00:00<00:00, 126.10it/s]\n"
          ]
        },
        {
          "name": "stdout",
          "output_type": "stream",
          "text": [
            "Epoch 46 (Training), Loss: 0.1502\n",
            "Epoch 46 (Validation), Loss: 0.1877\n"
          ]
        },
        {
          "name": "stderr",
          "output_type": "stream",
          "text": [
            "Epoch 47 (Training): 100%|██████████| 125/125 [00:00<00:00, 160.22it/s]\n"
          ]
        },
        {
          "name": "stdout",
          "output_type": "stream",
          "text": [
            "Epoch 47 (Training), Loss: 0.1422\n",
            "Epoch 47 (Validation), Loss: 0.1323\n"
          ]
        },
        {
          "name": "stderr",
          "output_type": "stream",
          "text": [
            "Epoch 48 (Training): 100%|██████████| 125/125 [00:00<00:00, 163.00it/s]\n"
          ]
        },
        {
          "name": "stdout",
          "output_type": "stream",
          "text": [
            "Epoch 48 (Training), Loss: 0.1220\n",
            "Epoch 48 (Validation), Loss: 0.1154\n"
          ]
        },
        {
          "name": "stderr",
          "output_type": "stream",
          "text": [
            "Epoch 49 (Training): 100%|██████████| 125/125 [00:00<00:00, 167.57it/s]\n"
          ]
        },
        {
          "name": "stdout",
          "output_type": "stream",
          "text": [
            "Epoch 49 (Training), Loss: 0.1156\n",
            "Epoch 49 (Validation), Loss: 0.1701\n"
          ]
        },
        {
          "name": "stderr",
          "output_type": "stream",
          "text": [
            "Epoch 50 (Training): 100%|██████████| 125/125 [00:00<00:00, 157.01it/s]\n"
          ]
        },
        {
          "name": "stdout",
          "output_type": "stream",
          "text": [
            "Epoch 50 (Training), Loss: 0.1068\n",
            "Epoch 50 (Validation), Loss: 0.0914\n"
          ]
        }
      ],
      "source": [
        "train_losses, val_losses = train(model, train_loader, val_loader, device, epochs)\n",
        "train_losses_optimized, val_losses_optimized = train(\n",
        "    optimized_model, train_loader, val_loader, device, epochs\n",
        ")\n",
        "torch.save(model.state_dict(), \"model_ass4.pth\")"
      ]
    },
    {
      "cell_type": "code",
      "execution_count": null,
      "metadata": {
        "id": "5i4C7L2H9iXs"
      },
      "outputs": [],
      "source": [
        "# Plot training and validation losses\n",
        "def plt_losses_graph(train_losses, val_losses, optimized=\"\"):\n",
        "    plt.figure(figsize=(8, 6))\n",
        "    plt.plot(\n",
        "        range(1, len(train_losses) + 1), train_losses, label=\"Training Loss\", marker=\"o\"\n",
        "    )\n",
        "    plt.plot(\n",
        "        range(1, len(val_losses) + 1), val_losses, label=\"Validation Loss\", marker=\"o\"\n",
        "    )\n",
        "    plt.xlabel(\"Epoch\")\n",
        "    plt.ylabel(\"Loss\")\n",
        "    plt.legend()\n",
        "    plt.grid(True)\n",
        "    plt.title(f\"Training and Validation Losses {optimized}\")\n",
        "    plt.show()"
      ]
    },
    {
      "cell_type": "code",
      "execution_count": null,
      "metadata": {
        "colab": {
          "base_uri": "https://localhost:8080/",
          "height": 1000
        },
        "id": "28KuUZFOJIDM",
        "outputId": "6816dcc5-28ae-4db6-f339-5b24b327bea5"
      },
      "outputs": [
        {
          "data": {
            "image/png": "[encoded data removed]",
            "text/plain": [
              "<Figure size 800x600 with 1 Axes>"
            ]
          },
          "metadata": {},
          "output_type": "display_data"
        },
        {
          "data": {
            "image/png": "[encoded data removed]",
            "text/plain": [
              "<Figure size 800x600 with 1 Axes>"
            ]
          },
          "metadata": {},
          "output_type": "display_data"
        }
      ],
      "source": [
        "# Optimized paramter\n",
        "plt_losses_graph(train_losses, val_losses)\n",
        "plt_losses_graph(train_losses_optimized, val_losses_optimized, \"Optimized\")"
      ]
    },
    {
      "cell_type": "markdown",
      "metadata": {
        "id": "VyTDIfCv9zO7"
      },
      "source": [
        "##Accuracy\n"
      ]
    },
    {
      "cell_type": "code",
      "execution_count": null,
      "metadata": {
        "colab": {
          "base_uri": "https://localhost:8080/"
        },
        "id": "7WHVw1qE9wt9",
        "outputId": "cbf2ac1b-59fb-44c0-e5d4-9f0e92f9e52b"
      },
      "outputs": [
        {
          "name": "stdout",
          "output_type": "stream",
          "text": [
            "Earlier Accuracy: 42.82%\n",
            "Optimized Accuracy: 96.74%\n"
          ]
        }
      ],
      "source": [
        "def calculate_accuracy(model, test_loader, device=\"cpu\"):\n",
        "    # Set the model to evaluation mode\n",
        "    model.eval()\n",
        "    correct = 0\n",
        "    total = 0\n",
        "\n",
        "    with torch.no_grad():\n",
        "        for inputs, targets in test_loader:\n",
        "            inputs = inputs.to(device)\n",
        "            targets = targets.to(device)\n",
        "\n",
        "            # Get model predictions\n",
        "            outputs = model(inputs)\n",
        "            predicted = torch.argmax(outputs, dim=2)\n",
        "\n",
        "            # Calculate accuracy\n",
        "            correct += (predicted == targets).sum().item()\n",
        "            total += targets.numel()\n",
        "\n",
        "    # print(total)\n",
        "    accuracy = correct / total\n",
        "    return accuracy\n",
        "\n",
        "\n",
        "# Example usage:\n",
        "accuracy = calculate_accuracy(model, test_loader, \"cuda\")\n",
        "optimized_accuracy = calculate_accuracy(optimized_model, test_loader, \"cuda\")\n",
        "print(f\"Earlier Accuracy: {accuracy * 100:.2f}%\")\n",
        "print(f\"Optimized Accuracy: {optimized_accuracy * 100:.2f}%\")"
      ]
    },
    {
      "cell_type": "markdown",
      "metadata": {
        "id": "TnXKZgNj_mPd"
      },
      "source": [
        "# Inference\n"
      ]
    },
    {
      "cell_type": "code",
      "execution_count": null,
      "metadata": {
        "id": "-nfLjNtq1FZK"
      },
      "outputs": [],
      "source": [
        "def generate_output(model, sequence, device=\"cpu\", max_length=5):\n",
        "    sequence += [0] * (max_length - len(sequence))\n",
        "    seq_tensor = (\n",
        "        torch.tensor(sequence).unsqueeze(0).to(device)\n",
        "    )  # Preallocate and move to device\n",
        "    with torch.no_grad():\n",
        "        output = model(seq_tensor)\n",
        "        reversed_seq = [token for token in output.argmax(dim=-1).squeeze(0).tolist()]\n",
        "\n",
        "    # Remove padding zeros from the reversed sequence\n",
        "    reversed_seq = [token for token in reversed_seq if token != 0]\n",
        "\n",
        "    return reversed_seq"
      ]
    },
    {
      "cell_type": "code",
      "execution_count": null,
      "metadata": {
        "colab": {
          "base_uri": "https://localhost:8080/"
        },
        "id": "rofrcAzhlB13",
        "outputId": "f2a350ce-9508-4215-935f-9edc50ee3243"
      },
      "outputs": [
        {
          "name": "stdout",
          "output_type": "stream",
          "text": [
            "Input: [5, 5, 3, 3, 1]\n",
            "Output: [1, 3, 3, 5, 5]\n"
          ]
        }
      ],
      "source": [
        "input_sequence = [5, 5, 3, 3, 1]\n",
        "print(\"Input:\", input_sequence)\n",
        "output_sequence = generate_output(model, input_sequence, device)\n",
        "print(\"Output:\", output_sequence)"
      ]
    },
    {
      "cell_type": "code",
      "execution_count": null,
      "metadata": {
        "colab": {
          "base_uri": "https://localhost:8080/"
        },
        "id": "xUIOAqbUQBVh",
        "outputId": "babe0189-b1d8-4f9a-f85c-efd988135ea3"
      },
      "outputs": [
        {
          "name": "stdout",
          "output_type": "stream",
          "text": [
            "Input: [5, 5, 3, 3, 1]\n",
            "Output: [1, 3, 3, 5, 5]\n"
          ]
        }
      ],
      "source": [
        "# Results with optimized model\n",
        "print(\"Input:\", input_sequence)\n",
        "output_sequence = generate_output(optimized_model, input_sequence, device)\n",
        "print(\"Output:\", output_sequence)"
      ]
    },
    {
      "cell_type": "code",
      "execution_count": null,
      "metadata": {
        "colab": {
          "base_uri": "https://localhost:8080/"
        },
        "id": "LdGTqYQx_lNQ",
        "outputId": "fbed9ed9-2174-42bf-e2df-cd304604defb"
      },
      "outputs": [
        {
          "name": "stdout",
          "output_type": "stream",
          "text": [
            "Input: [5, 2, 3]\n",
            "Output: [3, 3, 2]\n"
          ]
        }
      ],
      "source": [
        "input_sequence = [5, 2, 3]\n",
        "print(\"Input:\", input_sequence)\n",
        "output_sequence = generate_output(model, input_sequence, device)\n",
        "print(\"Output:\", output_sequence)"
      ]
    },
    {
      "cell_type": "code",
      "execution_count": null,
      "metadata": {
        "colab": {
          "base_uri": "https://localhost:8080/"
        },
        "id": "khlmPqiiQNf0",
        "outputId": "b634b892-a1b5-4906-abfd-cf48e6ca37fb"
      },
      "outputs": [
        {
          "name": "stdout",
          "output_type": "stream",
          "text": [
            "Input: [5, 2, 3]\n",
            "Output: [3, 2, 3]\n"
          ]
        }
      ],
      "source": [
        "# Results with optimized model\n",
        "input_sequence = [5, 2, 3]\n",
        "print(\"Input:\", input_sequence)\n",
        "output_sequence = generate_output(optimized_model, input_sequence, device)\n",
        "print(\"Output:\", output_sequence)"
      ]
    },
    {
      "cell_type": "code",
      "execution_count": null,
      "metadata": {
        "colab": {
          "base_uri": "https://localhost:8080/"
        },
        "id": "2Oz1KVe__apk",
        "outputId": "a467ba3e-1206-4f32-a82b-7c88e4a62c2b"
      },
      "outputs": [
        {
          "name": "stdout",
          "output_type": "stream",
          "text": [
            "Input: [4, 1, 3, 1]\n",
            "Output: [1, 4, 1, 4]\n"
          ]
        }
      ],
      "source": [
        "input_sequence = [4, 1, 3, 1]\n",
        "print(\"Input:\", input_sequence)\n",
        "output_sequence = generate_output(model, input_sequence, device)\n",
        "print(\"Output:\", output_sequence)"
      ]
    },
    {
      "cell_type": "code",
      "execution_count": null,
      "metadata": {
        "colab": {
          "base_uri": "https://localhost:8080/"
        },
        "id": "ihA6VwqLQqPn",
        "outputId": "60266253-5110-45d8-8eb0-49611f40f93d"
      },
      "outputs": [
        {
          "name": "stdout",
          "output_type": "stream",
          "text": [
            "Input: [4, 1, 3, 1]\n",
            "Output: [1, 3, 1, 4]\n"
          ]
        }
      ],
      "source": [
        "# Results with optimized model\n",
        "input_sequence = [4, 1, 3, 1]\n",
        "print(\"Input:\", input_sequence)\n",
        "output_sequence = generate_output(optimized_model, input_sequence, device)\n",
        "print(\"Output:\", output_sequence)"
      ]
    },
    {
      "cell_type": "code",
      "execution_count": null,
      "metadata": {
        "colab": {
          "base_uri": "https://localhost:8080/"
        },
        "id": "27R3NJU4lOqP",
        "outputId": "60ec5382-dd43-4ca2-a838-9c3df7aa0755"
      },
      "outputs": [
        {
          "name": "stdout",
          "output_type": "stream",
          "text": [
            "Input: [1, 7]\n",
            "Output: [7, 1, 1]\n"
          ]
        }
      ],
      "source": [
        "input_sequence = [1, 7]\n",
        "print(\"Input:\", input_sequence)\n",
        "output_sequence = generate_output(optimized_model, input_sequence, device)\n",
        "print(\"Output:\", output_sequence)"
      ]
    },
    {
      "cell_type": "code",
      "execution_count": null,
      "metadata": {
        "colab": {
          "base_uri": "https://localhost:8080/"
        },
        "id": "nAlbmqRTlU4Q",
        "outputId": "c9c6adaf-2a92-48db-95a7-23ba59f698cb"
      },
      "outputs": [
        {
          "name": "stdout",
          "output_type": "stream",
          "text": [
            "Input: [3, 1, 1]\n",
            "Output: [1, 1, 1]\n"
          ]
        }
      ],
      "source": [
        "input_sequence = [3, 1, 1]\n",
        "print(\"Input:\", input_sequence)\n",
        "output_sequence = generate_output(optimized_model, input_sequence, device)\n",
        "print(\"Output:\", output_sequence)"
      ]
    },
    {
      "cell_type": "markdown",
      "metadata": {
        "id": "Yk_XS3lq_hs0"
      },
      "source": [
        "#Model Optimization for Reversed Sequence Generation\n",
        "##Introduction\n",
        "In the initial version of our model, we encountered difficulties in training it to accurately reverse sequences. The model did not converge effectively and showed signs of overfitting to the training data. In this report, we will discuss the changes made to improve the model's performance and how these adjustments positively impacted the results.<br>\n",
        "##Initial Model Challenges\n",
        "\n",
        "As shown in Graph 1, the initial model's training loss appeared to converge after a certain number of epochs. However, the validation loss continued to fluctuate and did not show signs of convergence. This behavior indicated that the model was struggling to generalize from the training data to unseen examples.\n",
        "##Model Optimization Steps\n",
        "To address the challenges faced by the initial model, several key hyperparameter and architecture adjustments were made:\n",
        "\n",
        "1. Reducing Attention Heads\n",
        "   The initial model employed eight attention heads, which proved to be excessive for the simplicity of the task. By reducing the number of attention heads to four, we aimed to simplify the model's complexity and help it focus on more relevant features.\n",
        "2. Increasing Sample Size\n",
        "   To enable the model to better understand the pattern of sequence reversal, we increased the sample size of the training dataset. This change provided the model with more diverse examples, enhancing its ability to generalize.\n",
        "3. Reducing Embedding Dimension\n",
        "   The embedding dimension of the initial model was set at 512, which might have been too high for this task. By reducing the embedding dimension to 32, we aimed to create a more compact representation of the input sequences, which could help the model capture essential features.\n",
        "4. Padding Sequence\n",
        "   Another crucial change was made to the dataset itself. We added padding to the sequences after reversing them. This padding ensured that all sequences had the same length, which simplified the model's learning process and enabled it to handle variable-length input more effectively.\n",
        "\n",
        "##Improved Model Results\n",
        "\n",
        "After implementing these changes, we observed significant improvements in the model's performance. The model started to converge effectively, as shown in Graph 2, where both the training and validation losses decrease steadily over time.<br>\n",
        "\n",
        "##Conclusion\n",
        "In conclusion, optimizing our model by reducing the number of attention heads, increasing the sample size, lowering the embedding dimension, and adding padding to the sequences after reversal led to significant improvements in its ability to reverse sequences accurately. These adjustments helped the model converge effectively and generalize better to unseen data. With these improvements, we can now confidently use the model to generate reversed sequences and evaluate its accuracy as previously discussed.\n"
      ]
    }
  ],
  "metadata": {
    "accelerator": "GPU",
    "colab": {
      "gpuType": "T4",
      "provenance": []
    },
    "kernelspec": {
      "display_name": "Python 3",
      "name": "python3"
    },
    "language_info": {
      "codemirror_mode": {
        "name": "ipython",
        "version": 3
      },
      "file_extension": ".py",
      "mimetype": "text/x-python",
      "name": "python",
      "nbconvert_exporter": "python",
      "pygments_lexer": "ipython3",
      "version": "3.10.13"
    }
  },
  "nbformat": 4,
  "nbformat_minor": 0
}
